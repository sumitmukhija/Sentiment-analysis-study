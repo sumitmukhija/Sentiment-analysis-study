{
 "cells": [
  {
   "cell_type": "code",
   "execution_count": 29,
   "metadata": {},
   "outputs": [],
   "source": [
    "import pandas as pd\n",
    "import numpy as np\n",
    "import os"
   ]
  },
  {
   "cell_type": "code",
   "execution_count": 30,
   "metadata": {},
   "outputs": [],
   "source": [
    "# cal on soldier cal EmoLex\n",
    "# soldierCal = pd.read_csv(os.getcwd() + '/soldierEmo.csv', encoding='utf8')\n",
    "soldierCal = pd.read_csv(os.getcwd() + '/civilianEmo.csv', encoding='utf8')"
   ]
  },
  {
   "cell_type": "code",
   "execution_count": 31,
   "metadata": {},
   "outputs": [
    {
     "data": {
      "text/html": [
       "<div>\n",
       "<style scoped>\n",
       "    .dataframe tbody tr th:only-of-type {\n",
       "        vertical-align: middle;\n",
       "    }\n",
       "\n",
       "    .dataframe tbody tr th {\n",
       "        vertical-align: top;\n",
       "    }\n",
       "\n",
       "    .dataframe thead th {\n",
       "        text-align: right;\n",
       "    }\n",
       "</style>\n",
       "<table border=\"1\" class=\"dataframe\">\n",
       "  <thead>\n",
       "    <tr style=\"text-align: right;\">\n",
       "      <th></th>\n",
       "      <th>Unnamed: 0</th>\n",
       "      <th>anger</th>\n",
       "      <th>joy</th>\n",
       "      <th>disgust</th>\n",
       "      <th>sadness</th>\n",
       "      <th>surprise</th>\n",
       "      <th>anticipation</th>\n",
       "      <th>positive</th>\n",
       "      <th>fear</th>\n",
       "      <th>trust</th>\n",
       "      <th>negative</th>\n",
       "      <th>valid_tweet_count</th>\n",
       "    </tr>\n",
       "  </thead>\n",
       "  <tbody>\n",
       "    <tr>\n",
       "      <th>0</th>\n",
       "      <td>myrna99.csv</td>\n",
       "      <td>0.016461</td>\n",
       "      <td>0.039273</td>\n",
       "      <td>0.006996</td>\n",
       "      <td>0.019049</td>\n",
       "      <td>0.012668</td>\n",
       "      <td>0.034385</td>\n",
       "      <td>0.068555</td>\n",
       "      <td>0.012768</td>\n",
       "      <td>0.037501</td>\n",
       "      <td>0.027145</td>\n",
       "      <td>940.0</td>\n",
       "    </tr>\n",
       "    <tr>\n",
       "      <th>1</th>\n",
       "      <td>KBDeSalvo</td>\n",
       "      <td>NaN</td>\n",
       "      <td>NaN</td>\n",
       "      <td>NaN</td>\n",
       "      <td>NaN</td>\n",
       "      <td>NaN</td>\n",
       "      <td>NaN</td>\n",
       "      <td>NaN</td>\n",
       "      <td>NaN</td>\n",
       "      <td>NaN</td>\n",
       "      <td>NaN</td>\n",
       "      <td>NaN</td>\n",
       "    </tr>\n",
       "    <tr>\n",
       "      <th>2</th>\n",
       "      <td>.csv</td>\n",
       "      <td>0.006907</td>\n",
       "      <td>0.040134</td>\n",
       "      <td>0.004093</td>\n",
       "      <td>0.006869</td>\n",
       "      <td>0.017768</td>\n",
       "      <td>0.048736</td>\n",
       "      <td>0.101637</td>\n",
       "      <td>0.011780</td>\n",
       "      <td>0.051741</td>\n",
       "      <td>0.015300</td>\n",
       "      <td>1659.0</td>\n",
       "    </tr>\n",
       "    <tr>\n",
       "      <th>3</th>\n",
       "      <td>HTracyDavido.csv</td>\n",
       "      <td>0.012906</td>\n",
       "      <td>0.051179</td>\n",
       "      <td>0.011105</td>\n",
       "      <td>0.017860</td>\n",
       "      <td>0.025266</td>\n",
       "      <td>0.037182</td>\n",
       "      <td>0.092583</td>\n",
       "      <td>0.022820</td>\n",
       "      <td>0.044613</td>\n",
       "      <td>0.034674</td>\n",
       "      <td>2588.0</td>\n",
       "    </tr>\n",
       "    <tr>\n",
       "      <th>4</th>\n",
       "      <td>CenterdinOaklnd.csv</td>\n",
       "      <td>0.003443</td>\n",
       "      <td>0.058613</td>\n",
       "      <td>0.001239</td>\n",
       "      <td>0.003419</td>\n",
       "      <td>0.038979</td>\n",
       "      <td>0.044357</td>\n",
       "      <td>0.086608</td>\n",
       "      <td>0.003308</td>\n",
       "      <td>0.051578</td>\n",
       "      <td>0.009227</td>\n",
       "      <td>5200.0</td>\n",
       "    </tr>\n",
       "  </tbody>\n",
       "</table>\n",
       "</div>"
      ],
      "text/plain": [
       "            Unnamed: 0     anger       joy   disgust   sadness  surprise  \\\n",
       "0          myrna99.csv  0.016461  0.039273  0.006996  0.019049  0.012668   \n",
       "1            KBDeSalvo       NaN       NaN       NaN       NaN       NaN   \n",
       "2                 .csv  0.006907  0.040134  0.004093  0.006869  0.017768   \n",
       "3     HTracyDavido.csv  0.012906  0.051179  0.011105  0.017860  0.025266   \n",
       "4  CenterdinOaklnd.csv  0.003443  0.058613  0.001239  0.003419  0.038979   \n",
       "\n",
       "   anticipation  positive      fear     trust  negative  valid_tweet_count  \n",
       "0      0.034385  0.068555  0.012768  0.037501  0.027145              940.0  \n",
       "1           NaN       NaN       NaN       NaN       NaN                NaN  \n",
       "2      0.048736  0.101637  0.011780  0.051741  0.015300             1659.0  \n",
       "3      0.037182  0.092583  0.022820  0.044613  0.034674             2588.0  \n",
       "4      0.044357  0.086608  0.003308  0.051578  0.009227             5200.0  "
      ]
     },
     "execution_count": 31,
     "metadata": {},
     "output_type": "execute_result"
    }
   ],
   "source": [
    "soldierCal.head()"
   ]
  },
  {
   "cell_type": "code",
   "execution_count": 32,
   "metadata": {},
   "outputs": [
    {
     "name": "stdout",
     "output_type": "stream",
     "text": [
      "<class 'pandas.core.frame.DataFrame'>\n",
      "RangeIndex: 301 entries, 0 to 300\n",
      "Data columns (total 12 columns):\n",
      " #   Column             Non-Null Count  Dtype  \n",
      "---  ------             --------------  -----  \n",
      " 0   Unnamed: 0         301 non-null    object \n",
      " 1   anger              280 non-null    float64\n",
      " 2   joy                280 non-null    float64\n",
      " 3   disgust            280 non-null    float64\n",
      " 4   sadness            280 non-null    float64\n",
      " 5   surprise           280 non-null    float64\n",
      " 6   anticipation       280 non-null    float64\n",
      " 7   positive           280 non-null    float64\n",
      " 8   fear               280 non-null    float64\n",
      " 9   trust              280 non-null    float64\n",
      " 10  negative           280 non-null    float64\n",
      " 11  valid_tweet_count  280 non-null    float64\n",
      "dtypes: float64(11), object(1)\n",
      "memory usage: 28.3+ KB\n"
     ]
    }
   ],
   "source": [
    "soldierCal.info()"
   ]
  },
  {
   "cell_type": "code",
   "execution_count": 33,
   "metadata": {},
   "outputs": [
    {
     "data": {
      "text/plain": [
       "0.009893360790609023"
      ]
     },
     "execution_count": 33,
     "metadata": {},
     "output_type": "execute_result"
    }
   ],
   "source": [
    "soldierCal['disgust'].mean()"
   ]
  },
  {
   "cell_type": "code",
   "execution_count": 34,
   "metadata": {},
   "outputs": [
    {
     "data": {
      "text/plain": [
       "0.008288399931636905"
      ]
     },
     "execution_count": 34,
     "metadata": {},
     "output_type": "execute_result"
    }
   ],
   "source": [
    "soldierCal['disgust'].std()"
   ]
  },
  {
   "cell_type": "code",
   "execution_count": 35,
   "metadata": {},
   "outputs": [
    {
     "data": {
      "text/plain": [
       "0.03997245129824923"
      ]
     },
     "execution_count": 35,
     "metadata": {},
     "output_type": "execute_result"
    }
   ],
   "source": [
    "soldierCal['trust'].mean()"
   ]
  },
  {
   "cell_type": "code",
   "execution_count": 36,
   "metadata": {},
   "outputs": [
    {
     "data": {
      "text/plain": [
       "0.01704477636908491"
      ]
     },
     "execution_count": 36,
     "metadata": {},
     "output_type": "execute_result"
    }
   ],
   "source": [
    "soldierCal['trust'].std()"
   ]
  },
  {
   "cell_type": "code",
   "execution_count": 37,
   "metadata": {},
   "outputs": [
    {
     "data": {
      "text/plain": [
       "0.016371975460216345"
      ]
     },
     "execution_count": 37,
     "metadata": {},
     "output_type": "execute_result"
    }
   ],
   "source": [
    "soldierCal['surprise'].mean()"
   ]
  },
  {
   "cell_type": "code",
   "execution_count": 38,
   "metadata": {},
   "outputs": [
    {
     "data": {
      "text/plain": [
       "0.010813120594374104"
      ]
     },
     "execution_count": 38,
     "metadata": {},
     "output_type": "execute_result"
    }
   ],
   "source": [
    "soldierCal['surprise'].std()"
   ]
  },
  {
   "cell_type": "code",
   "execution_count": 39,
   "metadata": {},
   "outputs": [
    {
     "data": {
      "text/plain": [
       "0.016378467812921876"
      ]
     },
     "execution_count": 39,
     "metadata": {},
     "output_type": "execute_result"
    }
   ],
   "source": [
    "soldierCal['fear'].mean()"
   ]
  },
  {
   "cell_type": "code",
   "execution_count": 40,
   "metadata": {},
   "outputs": [
    {
     "data": {
      "text/plain": [
       "0.010823478207675727"
      ]
     },
     "execution_count": 40,
     "metadata": {},
     "output_type": "execute_result"
    }
   ],
   "source": [
    "soldierCal['fear'].std()"
   ]
  },
  {
   "cell_type": "code",
   "execution_count": 41,
   "metadata": {},
   "outputs": [
    {
     "data": {
      "text/plain": [
       "0.013182951378083596"
      ]
     },
     "execution_count": 41,
     "metadata": {},
     "output_type": "execute_result"
    }
   ],
   "source": [
    "soldierCal['sadness'].mean()"
   ]
  },
  {
   "cell_type": "code",
   "execution_count": 42,
   "metadata": {},
   "outputs": [
    {
     "data": {
      "text/plain": [
       "0.008718045158836231"
      ]
     },
     "execution_count": 42,
     "metadata": {},
     "output_type": "execute_result"
    }
   ],
   "source": [
    "soldierCal['sadness'].std()"
   ]
  },
  {
   "cell_type": "code",
   "execution_count": 43,
   "metadata": {},
   "outputs": [
    {
     "data": {
      "text/plain": [
       "0.03494373448561652"
      ]
     },
     "execution_count": 43,
     "metadata": {},
     "output_type": "execute_result"
    }
   ],
   "source": [
    "soldierCal['joy'].mean()"
   ]
  },
  {
   "cell_type": "code",
   "execution_count": 44,
   "metadata": {},
   "outputs": [
    {
     "data": {
      "text/plain": [
       "0.02245846282410201"
      ]
     },
     "execution_count": 44,
     "metadata": {},
     "output_type": "execute_result"
    }
   ],
   "source": [
    "soldierCal['joy'].std()"
   ]
  },
  {
   "cell_type": "code",
   "execution_count": 45,
   "metadata": {},
   "outputs": [
    {
     "data": {
      "text/plain": [
       "0.028300201332257094"
      ]
     },
     "execution_count": 45,
     "metadata": {},
     "output_type": "execute_result"
    }
   ],
   "source": [
    "soldierCal['negative'].mean()"
   ]
  },
  {
   "cell_type": "code",
   "execution_count": 46,
   "metadata": {},
   "outputs": [
    {
     "data": {
      "text/plain": [
       "0.016008151395361662"
      ]
     },
     "execution_count": 46,
     "metadata": {},
     "output_type": "execute_result"
    }
   ],
   "source": [
    "soldierCal['negative'].std()"
   ]
  },
  {
   "cell_type": "code",
   "execution_count": 47,
   "metadata": {},
   "outputs": [
    {
     "data": {
      "text/plain": [
       "0.03300944631505723"
      ]
     },
     "execution_count": 47,
     "metadata": {},
     "output_type": "execute_result"
    }
   ],
   "source": [
    "soldierCal['anticipation'].mean()"
   ]
  },
  {
   "cell_type": "code",
   "execution_count": 48,
   "metadata": {},
   "outputs": [
    {
     "data": {
      "text/plain": [
       "0.015286453757170356"
      ]
     },
     "execution_count": 48,
     "metadata": {},
     "output_type": "execute_result"
    }
   ],
   "source": [
    "soldierCal['anticipation'].std()"
   ]
  },
  {
   "cell_type": "code",
   "execution_count": 49,
   "metadata": {},
   "outputs": [
    {
     "data": {
      "text/plain": [
       "0.013203141326627124"
      ]
     },
     "execution_count": 49,
     "metadata": {},
     "output_type": "execute_result"
    }
   ],
   "source": [
    "soldierCal['anger'].mean()"
   ]
  },
  {
   "cell_type": "code",
   "execution_count": 50,
   "metadata": {},
   "outputs": [
    {
     "data": {
      "text/plain": [
       "0.00801890544768236"
      ]
     },
     "execution_count": 50,
     "metadata": {},
     "output_type": "execute_result"
    }
   ],
   "source": [
    "soldierCal['anger'].std()"
   ]
  },
  {
   "cell_type": "code",
   "execution_count": 51,
   "metadata": {},
   "outputs": [
    {
     "data": {
      "text/plain": [
       "0.06506372580470796"
      ]
     },
     "execution_count": 51,
     "metadata": {},
     "output_type": "execute_result"
    }
   ],
   "source": [
    "soldierCal['positive'].mean()"
   ]
  },
  {
   "cell_type": "code",
   "execution_count": 52,
   "metadata": {},
   "outputs": [
    {
     "data": {
      "text/plain": [
       "0.026903474423452645"
      ]
     },
     "execution_count": 52,
     "metadata": {},
     "output_type": "execute_result"
    }
   ],
   "source": [
    "soldierCal['positive'].std()"
   ]
  },
  {
   "cell_type": "code",
   "execution_count": null,
   "metadata": {},
   "outputs": [],
   "source": []
  }
 ],
 "metadata": {
  "kernelspec": {
   "display_name": "Python 3.7.7 64-bit ('TextAnalytics': pipenv)",
   "language": "python",
   "name": "python37764bittextanalyticspipenvec0a72c8bc7e410ea9ad476aba2b0271"
  },
  "language_info": {
   "codemirror_mode": {
    "name": "ipython",
    "version": 3
   },
   "file_extension": ".py",
   "mimetype": "text/x-python",
   "name": "python",
   "nbconvert_exporter": "python",
   "pygments_lexer": "ipython3",
   "version": "3.7.7"
  }
 },
 "nbformat": 4,
 "nbformat_minor": 4
}
