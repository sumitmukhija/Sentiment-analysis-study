{
 "cells": [
  {
   "cell_type": "code",
   "execution_count": 3,
   "metadata": {},
   "outputs": [],
   "source": [
    "import pandas as pd\n",
    "import numpy as np\n",
    "import os"
   ]
  },
  {
   "cell_type": "code",
   "execution_count": 20,
   "metadata": {},
   "outputs": [],
   "source": [
    "# cal on soldier cal SentiWordNet\n",
    "soldierCal = pd.read_csv(os.getcwd() + '/soldierCal.csv', encoding='utf8')\n",
    "# soldierCal = pd.read_csv(os.getcwd() + '/civilianCal.csv', encoding='utf8')"
   ]
  },
  {
   "cell_type": "code",
   "execution_count": 21,
   "metadata": {},
   "outputs": [
    {
     "data": {
      "text/html": [
       "<div>\n",
       "<style scoped>\n",
       "    .dataframe tbody tr th:only-of-type {\n",
       "        vertical-align: middle;\n",
       "    }\n",
       "\n",
       "    .dataframe tbody tr th {\n",
       "        vertical-align: top;\n",
       "    }\n",
       "\n",
       "    .dataframe thead th {\n",
       "        text-align: right;\n",
       "    }\n",
       "</style>\n",
       "<table border=\"1\" class=\"dataframe\">\n",
       "  <thead>\n",
       "    <tr style=\"text-align: right;\">\n",
       "      <th></th>\n",
       "      <th>csv</th>\n",
       "      <th>count</th>\n",
       "      <th>tweet cleaned length mean</th>\n",
       "      <th>tweet cleaned length std</th>\n",
       "      <th>positive mean</th>\n",
       "      <th>positive std</th>\n",
       "      <th>negative mean</th>\n",
       "      <th>negative std</th>\n",
       "      <th>objective mean</th>\n",
       "      <th>objective std</th>\n",
       "    </tr>\n",
       "  </thead>\n",
       "  <tbody>\n",
       "    <tr>\n",
       "      <th>0</th>\n",
       "      <td>fcharles81.csv</td>\n",
       "      <td>2483</td>\n",
       "      <td>11.342328</td>\n",
       "      <td>9.236260</td>\n",
       "      <td>0.029116</td>\n",
       "      <td>0.044574</td>\n",
       "      <td>0.020452</td>\n",
       "      <td>0.030737</td>\n",
       "      <td>0.345580</td>\n",
       "      <td>0.194491</td>\n",
       "    </tr>\n",
       "    <tr>\n",
       "      <th>1</th>\n",
       "      <td>GeoffMillard.csv</td>\n",
       "      <td>10766</td>\n",
       "      <td>18.373305</td>\n",
       "      <td>12.577660</td>\n",
       "      <td>0.027207</td>\n",
       "      <td>0.029670</td>\n",
       "      <td>0.024083</td>\n",
       "      <td>0.024488</td>\n",
       "      <td>0.371894</td>\n",
       "      <td>0.149254</td>\n",
       "    </tr>\n",
       "    <tr>\n",
       "      <th>2</th>\n",
       "      <td>cNikonphoto.csv</td>\n",
       "      <td>6981</td>\n",
       "      <td>8.220312</td>\n",
       "      <td>8.356400</td>\n",
       "      <td>0.011386</td>\n",
       "      <td>0.023119</td>\n",
       "      <td>0.007051</td>\n",
       "      <td>0.015293</td>\n",
       "      <td>0.308692</td>\n",
       "      <td>0.299213</td>\n",
       "    </tr>\n",
       "    <tr>\n",
       "      <th>3</th>\n",
       "      <td>veteranhank.csv</td>\n",
       "      <td>4980</td>\n",
       "      <td>20.315863</td>\n",
       "      <td>14.502473</td>\n",
       "      <td>0.028544</td>\n",
       "      <td>0.033798</td>\n",
       "      <td>0.026736</td>\n",
       "      <td>0.027754</td>\n",
       "      <td>0.393129</td>\n",
       "      <td>0.141637</td>\n",
       "    </tr>\n",
       "    <tr>\n",
       "      <th>4</th>\n",
       "      <td>RalasGang.csv</td>\n",
       "      <td>1209</td>\n",
       "      <td>26.650124</td>\n",
       "      <td>17.999839</td>\n",
       "      <td>0.025335</td>\n",
       "      <td>0.026368</td>\n",
       "      <td>0.018463</td>\n",
       "      <td>0.018079</td>\n",
       "      <td>0.302661</td>\n",
       "      <td>0.122751</td>\n",
       "    </tr>\n",
       "  </tbody>\n",
       "</table>\n",
       "</div>"
      ],
      "text/plain": [
       "                csv  count  tweet cleaned length mean  \\\n",
       "0    fcharles81.csv   2483                  11.342328   \n",
       "1  GeoffMillard.csv  10766                  18.373305   \n",
       "2   cNikonphoto.csv   6981                   8.220312   \n",
       "3   veteranhank.csv   4980                  20.315863   \n",
       "4     RalasGang.csv   1209                  26.650124   \n",
       "\n",
       "   tweet cleaned length std  positive mean  positive std  negative mean  \\\n",
       "0                  9.236260       0.029116      0.044574       0.020452   \n",
       "1                 12.577660       0.027207      0.029670       0.024083   \n",
       "2                  8.356400       0.011386      0.023119       0.007051   \n",
       "3                 14.502473       0.028544      0.033798       0.026736   \n",
       "4                 17.999839       0.025335      0.026368       0.018463   \n",
       "\n",
       "   negative std  objective mean  objective std  \n",
       "0      0.030737        0.345580       0.194491  \n",
       "1      0.024488        0.371894       0.149254  \n",
       "2      0.015293        0.308692       0.299213  \n",
       "3      0.027754        0.393129       0.141637  \n",
       "4      0.018079        0.302661       0.122751  "
      ]
     },
     "execution_count": 21,
     "metadata": {},
     "output_type": "execute_result"
    }
   ],
   "source": [
    "soldierCal.head()"
   ]
  },
  {
   "cell_type": "code",
   "execution_count": 22,
   "metadata": {},
   "outputs": [
    {
     "name": "stdout",
     "output_type": "stream",
     "text": [
      "<class 'pandas.core.frame.DataFrame'>\n",
      "RangeIndex: 208 entries, 0 to 207\n",
      "Data columns (total 10 columns):\n",
      " #   Column                     Non-Null Count  Dtype  \n",
      "---  ------                     --------------  -----  \n",
      " 0   csv                        208 non-null    object \n",
      " 1   count                      208 non-null    int64  \n",
      " 2   tweet cleaned length mean  208 non-null    float64\n",
      " 3   tweet cleaned length std   208 non-null    float64\n",
      " 4   positive mean              208 non-null    float64\n",
      " 5   positive std               208 non-null    float64\n",
      " 6   negative mean              208 non-null    float64\n",
      " 7   negative std               208 non-null    float64\n",
      " 8   objective mean             208 non-null    float64\n",
      " 9   objective std              208 non-null    float64\n",
      "dtypes: float64(8), int64(1), object(1)\n",
      "memory usage: 16.4+ KB\n"
     ]
    }
   ],
   "source": [
    "soldierCal.info()"
   ]
  },
  {
   "cell_type": "code",
   "execution_count": 23,
   "metadata": {},
   "outputs": [
    {
     "data": {
      "text/plain": [
       "661345"
      ]
     },
     "execution_count": 23,
     "metadata": {},
     "output_type": "execute_result"
    }
   ],
   "source": [
    "# total valid tweet counts\n",
    "soldierCal['count'].sum()"
   ]
  },
  {
   "cell_type": "code",
   "execution_count": 24,
   "metadata": {},
   "outputs": [
    {
     "data": {
      "text/plain": [
       "3179.543269230769"
      ]
     },
     "execution_count": 24,
     "metadata": {},
     "output_type": "execute_result"
    }
   ],
   "source": [
    "soldierCal['count'].mean()"
   ]
  },
  {
   "cell_type": "code",
   "execution_count": 25,
   "metadata": {},
   "outputs": [
    {
     "data": {
      "text/plain": [
       "5041.6991459538685"
      ]
     },
     "execution_count": 25,
     "metadata": {},
     "output_type": "execute_result"
    }
   ],
   "source": [
    "soldierCal['count'].std()"
   ]
  },
  {
   "cell_type": "code",
   "execution_count": 26,
   "metadata": {},
   "outputs": [
    {
     "data": {
      "text/plain": [
       "6.64265168008867"
      ]
     },
     "execution_count": 26,
     "metadata": {},
     "output_type": "execute_result"
    }
   ],
   "source": [
    "# tweet cleaned length mean\n",
    "soldierCal['tweet cleaned length mean'].std()"
   ]
  },
  {
   "cell_type": "code",
   "execution_count": 27,
   "metadata": {},
   "outputs": [
    {
     "data": {
      "text/plain": [
       "16.450405219645422"
      ]
     },
     "execution_count": 27,
     "metadata": {},
     "output_type": "execute_result"
    }
   ],
   "source": [
    "soldierCal['tweet cleaned length mean'].mean()"
   ]
  },
  {
   "cell_type": "code",
   "execution_count": 28,
   "metadata": {},
   "outputs": [
    {
     "data": {
      "text/plain": [
       "0.02575830038724429"
      ]
     },
     "execution_count": 28,
     "metadata": {},
     "output_type": "execute_result"
    }
   ],
   "source": [
    "# positive mean on user count\n",
    "soldierCal['positive mean'].mean()"
   ]
  },
  {
   "cell_type": "code",
   "execution_count": 29,
   "metadata": {},
   "outputs": [
    {
     "data": {
      "text/plain": [
       "0.007858645171147136"
      ]
     },
     "execution_count": 29,
     "metadata": {},
     "output_type": "execute_result"
    }
   ],
   "source": [
    "soldierCal['positive mean'].std()"
   ]
  },
  {
   "cell_type": "code",
   "execution_count": 30,
   "metadata": {},
   "outputs": [
    {
     "data": {
      "text/plain": [
       "0.019610243482371188"
      ]
     },
     "execution_count": 30,
     "metadata": {},
     "output_type": "execute_result"
    }
   ],
   "source": [
    "# negative mean on user count\n",
    "soldierCal['negative mean'].mean()"
   ]
  },
  {
   "cell_type": "code",
   "execution_count": 31,
   "metadata": {},
   "outputs": [
    {
     "data": {
      "text/plain": [
       "0.00643857976862326"
      ]
     },
     "execution_count": 31,
     "metadata": {},
     "output_type": "execute_result"
    }
   ],
   "source": [
    "soldierCal['negative mean'].std()"
   ]
  },
  {
   "cell_type": "code",
   "execution_count": 32,
   "metadata": {},
   "outputs": [
    {
     "data": {
      "text/plain": [
       "0.3371701612543228"
      ]
     },
     "execution_count": 32,
     "metadata": {},
     "output_type": "execute_result"
    }
   ],
   "source": [
    "soldierCal['objective mean'].mean()"
   ]
  },
  {
   "cell_type": "code",
   "execution_count": 33,
   "metadata": {},
   "outputs": [
    {
     "data": {
      "text/plain": [
       "0.07504938999827325"
      ]
     },
     "execution_count": 33,
     "metadata": {},
     "output_type": "execute_result"
    }
   ],
   "source": [
    "soldierCal['objective mean'].std()"
   ]
  },
  {
   "cell_type": "code",
   "execution_count": 34,
   "metadata": {},
   "outputs": [],
   "source": [
    "soldierCal['total'] = soldierCal.apply(lambda x: x['count'] * x['tweet cleaned length mean'], axis=1)"
   ]
  },
  {
   "cell_type": "code",
   "execution_count": 35,
   "metadata": {},
   "outputs": [
    {
     "data": {
      "text/plain": [
       "10888505.0"
      ]
     },
     "execution_count": 35,
     "metadata": {},
     "output_type": "execute_result"
    }
   ],
   "source": [
    "soldierCal['total'].sum()\n"
   ]
  },
  {
   "cell_type": "code",
   "execution_count": null,
   "metadata": {},
   "outputs": [],
   "source": []
  },
  {
   "cell_type": "code",
   "execution_count": null,
   "metadata": {},
   "outputs": [],
   "source": []
  },
  {
   "cell_type": "code",
   "execution_count": null,
   "metadata": {},
   "outputs": [],
   "source": []
  }
 ],
 "metadata": {
  "kernelspec": {
   "display_name": "Python 3.7.7 64-bit ('TextAnalytics': pipenv)",
   "language": "python",
   "name": "python37764bittextanalyticspipenvec0a72c8bc7e410ea9ad476aba2b0271"
  },
  "language_info": {
   "codemirror_mode": {
    "name": "ipython",
    "version": 3
   },
   "file_extension": ".py",
   "mimetype": "text/x-python",
   "name": "python",
   "nbconvert_exporter": "python",
   "pygments_lexer": "ipython3",
   "version": "3.7.7"
  }
 },
 "nbformat": 4,
 "nbformat_minor": 4
}
