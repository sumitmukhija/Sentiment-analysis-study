{
 "cells": [
  {
   "cell_type": "code",
   "execution_count": 3,
   "metadata": {},
   "outputs": [],
   "source": [
    "import pandas as pd\n",
    "import numpy as np\n",
    "import os"
   ]
  },
  {
   "cell_type": "code",
   "execution_count": 4,
   "metadata": {},
   "outputs": [],
   "source": [
    "# cal on soldier cal SentiWordNet\n",
    "# soldierCal = pd.read_csv(os.getcwd() + '/soldierCal.csv', encoding='utf8')\n",
    "soldierCal = pd.read_csv(os.getcwd() + '/civilianCal.csv', encoding='utf8')"
   ]
  },
  {
   "cell_type": "code",
   "execution_count": 5,
   "metadata": {},
   "outputs": [
    {
     "data": {
      "text/html": [
       "<div>\n",
       "<style scoped>\n",
       "    .dataframe tbody tr th:only-of-type {\n",
       "        vertical-align: middle;\n",
       "    }\n",
       "\n",
       "    .dataframe tbody tr th {\n",
       "        vertical-align: top;\n",
       "    }\n",
       "\n",
       "    .dataframe thead th {\n",
       "        text-align: right;\n",
       "    }\n",
       "</style>\n",
       "<table border=\"1\" class=\"dataframe\">\n",
       "  <thead>\n",
       "    <tr style=\"text-align: right;\">\n",
       "      <th></th>\n",
       "      <th>Unnamed: 0</th>\n",
       "      <th>count</th>\n",
       "      <th>tweet cleaned length mean</th>\n",
       "      <th>tweet cleaned length std</th>\n",
       "      <th>positive mean</th>\n",
       "      <th>positive std</th>\n",
       "      <th>negative mean</th>\n",
       "      <th>negative std</th>\n",
       "      <th>objective mean</th>\n",
       "      <th>objective std</th>\n",
       "    </tr>\n",
       "  </thead>\n",
       "  <tbody>\n",
       "    <tr>\n",
       "      <th>0</th>\n",
       "      <td>0</td>\n",
       "      <td>940</td>\n",
       "      <td>9.894681</td>\n",
       "      <td>6.867947</td>\n",
       "      <td>0.027931</td>\n",
       "      <td>0.038166</td>\n",
       "      <td>0.017498</td>\n",
       "      <td>0.024020</td>\n",
       "      <td>0.290692</td>\n",
       "      <td>0.186453</td>\n",
       "    </tr>\n",
       "    <tr>\n",
       "      <th>1</th>\n",
       "      <td>1</td>\n",
       "      <td>1659</td>\n",
       "      <td>13.661844</td>\n",
       "      <td>8.495976</td>\n",
       "      <td>0.037578</td>\n",
       "      <td>0.037370</td>\n",
       "      <td>0.012007</td>\n",
       "      <td>0.014143</td>\n",
       "      <td>0.352474</td>\n",
       "      <td>0.156332</td>\n",
       "    </tr>\n",
       "    <tr>\n",
       "      <th>2</th>\n",
       "      <td>2</td>\n",
       "      <td>2588</td>\n",
       "      <td>11.049073</td>\n",
       "      <td>8.121916</td>\n",
       "      <td>0.038598</td>\n",
       "      <td>0.045959</td>\n",
       "      <td>0.025928</td>\n",
       "      <td>0.037269</td>\n",
       "      <td>0.364821</td>\n",
       "      <td>0.155675</td>\n",
       "    </tr>\n",
       "    <tr>\n",
       "      <th>3</th>\n",
       "      <td>3</td>\n",
       "      <td>5200</td>\n",
       "      <td>17.404231</td>\n",
       "      <td>4.851334</td>\n",
       "      <td>0.018659</td>\n",
       "      <td>0.024434</td>\n",
       "      <td>0.005484</td>\n",
       "      <td>0.010836</td>\n",
       "      <td>0.349606</td>\n",
       "      <td>0.120223</td>\n",
       "    </tr>\n",
       "    <tr>\n",
       "      <th>4</th>\n",
       "      <td>4</td>\n",
       "      <td>692</td>\n",
       "      <td>20.971098</td>\n",
       "      <td>11.436140</td>\n",
       "      <td>0.029540</td>\n",
       "      <td>0.025237</td>\n",
       "      <td>0.014369</td>\n",
       "      <td>0.013339</td>\n",
       "      <td>0.400300</td>\n",
       "      <td>0.105992</td>\n",
       "    </tr>\n",
       "  </tbody>\n",
       "</table>\n",
       "</div>"
      ],
      "text/plain": [
       "   Unnamed: 0  count  tweet cleaned length mean  tweet cleaned length std  \\\n",
       "0           0    940                   9.894681                  6.867947   \n",
       "1           1   1659                  13.661844                  8.495976   \n",
       "2           2   2588                  11.049073                  8.121916   \n",
       "3           3   5200                  17.404231                  4.851334   \n",
       "4           4    692                  20.971098                 11.436140   \n",
       "\n",
       "   positive mean  positive std  negative mean  negative std  objective mean  \\\n",
       "0       0.027931      0.038166       0.017498      0.024020        0.290692   \n",
       "1       0.037578      0.037370       0.012007      0.014143        0.352474   \n",
       "2       0.038598      0.045959       0.025928      0.037269        0.364821   \n",
       "3       0.018659      0.024434       0.005484      0.010836        0.349606   \n",
       "4       0.029540      0.025237       0.014369      0.013339        0.400300   \n",
       "\n",
       "   objective std  \n",
       "0       0.186453  \n",
       "1       0.156332  \n",
       "2       0.155675  \n",
       "3       0.120223  \n",
       "4       0.105992  "
      ]
     },
     "execution_count": 5,
     "metadata": {},
     "output_type": "execute_result"
    }
   ],
   "source": [
    "soldierCal.head()"
   ]
  },
  {
   "cell_type": "code",
   "execution_count": 6,
   "metadata": {},
   "outputs": [
    {
     "name": "stdout",
     "output_type": "stream",
     "text": [
      "<class 'pandas.core.frame.DataFrame'>\n",
      "RangeIndex: 280 entries, 0 to 279\n",
      "Data columns (total 10 columns):\n",
      " #   Column                     Non-Null Count  Dtype  \n",
      "---  ------                     --------------  -----  \n",
      " 0   Unnamed: 0                 280 non-null    int64  \n",
      " 1   count                      280 non-null    int64  \n",
      " 2   tweet cleaned length mean  280 non-null    float64\n",
      " 3   tweet cleaned length std   280 non-null    float64\n",
      " 4   positive mean              280 non-null    float64\n",
      " 5   positive std               280 non-null    float64\n",
      " 6   negative mean              280 non-null    float64\n",
      " 7   negative std               280 non-null    float64\n",
      " 8   objective mean             280 non-null    float64\n",
      " 9   objective std              280 non-null    float64\n",
      "dtypes: float64(8), int64(2)\n",
      "memory usage: 22.0 KB\n"
     ]
    }
   ],
   "source": [
    "soldierCal.info()"
   ]
  },
  {
   "cell_type": "code",
   "execution_count": 7,
   "metadata": {},
   "outputs": [
    {
     "data": {
      "text/plain": [
       "600224"
      ]
     },
     "execution_count": 7,
     "metadata": {},
     "output_type": "execute_result"
    }
   ],
   "source": [
    "# total valid tweet counts\n",
    "soldierCal['count'].sum()"
   ]
  },
  {
   "cell_type": "code",
   "execution_count": 8,
   "metadata": {},
   "outputs": [
    {
     "data": {
      "text/plain": [
       "2143.657142857143"
      ]
     },
     "execution_count": 8,
     "metadata": {},
     "output_type": "execute_result"
    }
   ],
   "source": [
    "soldierCal['count'].mean()"
   ]
  },
  {
   "cell_type": "code",
   "execution_count": 9,
   "metadata": {},
   "outputs": [
    {
     "data": {
      "text/plain": [
       "5286.120399540992"
      ]
     },
     "execution_count": 9,
     "metadata": {},
     "output_type": "execute_result"
    }
   ],
   "source": [
    "soldierCal['count'].std()"
   ]
  },
  {
   "cell_type": "code",
   "execution_count": 10,
   "metadata": {},
   "outputs": [
    {
     "data": {
      "text/plain": [
       "5.206737369785966"
      ]
     },
     "execution_count": 10,
     "metadata": {},
     "output_type": "execute_result"
    }
   ],
   "source": [
    "# tweet cleaned length mean\n",
    "soldierCal['tweet cleaned length mean'].std()"
   ]
  },
  {
   "cell_type": "code",
   "execution_count": 11,
   "metadata": {},
   "outputs": [
    {
     "data": {
      "text/plain": [
       "14.29327424883319"
      ]
     },
     "execution_count": 11,
     "metadata": {},
     "output_type": "execute_result"
    }
   ],
   "source": [
    "soldierCal['tweet cleaned length mean'].mean()"
   ]
  },
  {
   "cell_type": "code",
   "execution_count": 12,
   "metadata": {},
   "outputs": [
    {
     "data": {
      "text/plain": [
       "0.026265750371957067"
      ]
     },
     "execution_count": 12,
     "metadata": {},
     "output_type": "execute_result"
    }
   ],
   "source": [
    "# positive mean on user count\n",
    "soldierCal['positive mean'].mean()"
   ]
  },
  {
   "cell_type": "code",
   "execution_count": 13,
   "metadata": {},
   "outputs": [
    {
     "data": {
      "text/plain": [
       "0.008743212224596538"
      ]
     },
     "execution_count": 13,
     "metadata": {},
     "output_type": "execute_result"
    }
   ],
   "source": [
    "soldierCal['positive mean'].std()"
   ]
  },
  {
   "cell_type": "code",
   "execution_count": 14,
   "metadata": {},
   "outputs": [
    {
     "data": {
      "text/plain": [
       "0.01773944564215037"
      ]
     },
     "execution_count": 14,
     "metadata": {},
     "output_type": "execute_result"
    }
   ],
   "source": [
    "# negative mean on user count\n",
    "soldierCal['negative mean'].mean()"
   ]
  },
  {
   "cell_type": "code",
   "execution_count": 15,
   "metadata": {},
   "outputs": [
    {
     "data": {
      "text/plain": [
       "0.006478597457962081"
      ]
     },
     "execution_count": 15,
     "metadata": {},
     "output_type": "execute_result"
    }
   ],
   "source": [
    "soldierCal['negative mean'].std()"
   ]
  },
  {
   "cell_type": "code",
   "execution_count": 16,
   "metadata": {},
   "outputs": [
    {
     "data": {
      "text/plain": [
       "0.35305253244231866"
      ]
     },
     "execution_count": 16,
     "metadata": {},
     "output_type": "execute_result"
    }
   ],
   "source": [
    "soldierCal['objective mean'].mean()"
   ]
  },
  {
   "cell_type": "code",
   "execution_count": 17,
   "metadata": {},
   "outputs": [
    {
     "data": {
      "text/plain": [
       "0.07200866913477337"
      ]
     },
     "execution_count": 17,
     "metadata": {},
     "output_type": "execute_result"
    }
   ],
   "source": [
    "soldierCal['objective mean'].std()"
   ]
  },
  {
   "cell_type": "code",
   "execution_count": 18,
   "metadata": {},
   "outputs": [],
   "source": [
    "soldierCal['total'] = soldierCal.apply(lambda x: x['count'] * x['tweet cleaned length mean'], axis=1)"
   ]
  },
  {
   "cell_type": "code",
   "execution_count": 19,
   "metadata": {},
   "outputs": [
    {
     "data": {
      "text/plain": [
       "9150476.0"
      ]
     },
     "execution_count": 19,
     "metadata": {},
     "output_type": "execute_result"
    }
   ],
   "source": [
    "soldierCal['total'].sum()\n"
   ]
  },
  {
   "cell_type": "code",
   "execution_count": null,
   "metadata": {},
   "outputs": [],
   "source": []
  }
 ],
 "metadata": {
  "kernelspec": {
   "display_name": "Python 3.7.7 64-bit ('TextAnalytics': pipenv)",
   "language": "python",
   "name": "python37764bittextanalyticspipenvec0a72c8bc7e410ea9ad476aba2b0271"
  },
  "language_info": {
   "codemirror_mode": {
    "name": "ipython",
    "version": 3
   },
   "file_extension": ".py",
   "mimetype": "text/x-python",
   "name": "python",
   "nbconvert_exporter": "python",
   "pygments_lexer": "ipython3",
   "version": "3.7.7"
  }
 },
 "nbformat": 4,
 "nbformat_minor": 4
}
