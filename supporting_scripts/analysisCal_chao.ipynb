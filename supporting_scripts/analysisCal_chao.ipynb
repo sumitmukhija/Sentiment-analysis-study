{
 "cells": [
  {
   "cell_type": "code",
   "execution_count": 1,
   "metadata": {},
   "outputs": [],
   "source": [
    "import pandas as pd\n",
    "import numpy as np\n",
    "import os"
   ]
  },
  {
   "cell_type": "code",
   "execution_count": 2,
   "metadata": {},
   "outputs": [],
   "source": [
    "# cal on soldier cal SentiWordNet\n",
    "# soldierCal = pd.read_csv(os.getcwd() + '/soldierCal.csv', encoding='utf8')\n",
    "soldierCal = pd.read_csv(os.getcwd() + '/civilianCal.csv', encoding='utf8')"
   ]
  },
  {
   "cell_type": "code",
   "execution_count": 3,
   "metadata": {},
   "outputs": [
    {
     "data": {
      "text/html": [
       "<div>\n",
       "<style scoped>\n",
       "    .dataframe tbody tr th:only-of-type {\n",
       "        vertical-align: middle;\n",
       "    }\n",
       "\n",
       "    .dataframe tbody tr th {\n",
       "        vertical-align: top;\n",
       "    }\n",
       "\n",
       "    .dataframe thead th {\n",
       "        text-align: right;\n",
       "    }\n",
       "</style>\n",
       "<table border=\"1\" class=\"dataframe\">\n",
       "  <thead>\n",
       "    <tr style=\"text-align: right;\">\n",
       "      <th></th>\n",
       "      <th>Unnamed: 0</th>\n",
       "      <th>count</th>\n",
       "      <th>tweet cleaned length mean</th>\n",
       "      <th>tweet cleaned length std</th>\n",
       "      <th>positive mean</th>\n",
       "      <th>positive std</th>\n",
       "      <th>negative mean</th>\n",
       "      <th>negative std</th>\n",
       "      <th>objective mean</th>\n",
       "      <th>objective std</th>\n",
       "    </tr>\n",
       "  </thead>\n",
       "  <tbody>\n",
       "    <tr>\n",
       "      <th>0</th>\n",
       "      <td>myrna99.csv</td>\n",
       "      <td>940.0</td>\n",
       "      <td>9.894681</td>\n",
       "      <td>6.867947</td>\n",
       "      <td>0.027931</td>\n",
       "      <td>0.038166</td>\n",
       "      <td>0.017498</td>\n",
       "      <td>0.024020</td>\n",
       "      <td>0.290692</td>\n",
       "      <td>0.186453</td>\n",
       "    </tr>\n",
       "    <tr>\n",
       "      <th>1</th>\n",
       "      <td>KBDeSalvo</td>\n",
       "      <td>NaN</td>\n",
       "      <td>NaN</td>\n",
       "      <td>NaN</td>\n",
       "      <td>NaN</td>\n",
       "      <td>NaN</td>\n",
       "      <td>NaN</td>\n",
       "      <td>NaN</td>\n",
       "      <td>NaN</td>\n",
       "      <td>NaN</td>\n",
       "    </tr>\n",
       "    <tr>\n",
       "      <th>2</th>\n",
       "      <td>.csv</td>\n",
       "      <td>1659.0</td>\n",
       "      <td>13.661844</td>\n",
       "      <td>8.495976</td>\n",
       "      <td>0.037578</td>\n",
       "      <td>0.037370</td>\n",
       "      <td>0.012007</td>\n",
       "      <td>0.014143</td>\n",
       "      <td>0.352474</td>\n",
       "      <td>0.156332</td>\n",
       "    </tr>\n",
       "    <tr>\n",
       "      <th>3</th>\n",
       "      <td>HTracyDavido.csv</td>\n",
       "      <td>2588.0</td>\n",
       "      <td>11.049073</td>\n",
       "      <td>8.121916</td>\n",
       "      <td>0.038598</td>\n",
       "      <td>0.045959</td>\n",
       "      <td>0.025928</td>\n",
       "      <td>0.037269</td>\n",
       "      <td>0.364821</td>\n",
       "      <td>0.155675</td>\n",
       "    </tr>\n",
       "    <tr>\n",
       "      <th>4</th>\n",
       "      <td>CenterdinOaklnd.csv</td>\n",
       "      <td>5200.0</td>\n",
       "      <td>17.404231</td>\n",
       "      <td>4.851334</td>\n",
       "      <td>0.018659</td>\n",
       "      <td>0.024434</td>\n",
       "      <td>0.005484</td>\n",
       "      <td>0.010836</td>\n",
       "      <td>0.349606</td>\n",
       "      <td>0.120223</td>\n",
       "    </tr>\n",
       "  </tbody>\n",
       "</table>\n",
       "</div>"
      ],
      "text/plain": [
       "            Unnamed: 0   count  tweet cleaned length mean  \\\n",
       "0          myrna99.csv   940.0                   9.894681   \n",
       "1            KBDeSalvo     NaN                        NaN   \n",
       "2                 .csv  1659.0                  13.661844   \n",
       "3     HTracyDavido.csv  2588.0                  11.049073   \n",
       "4  CenterdinOaklnd.csv  5200.0                  17.404231   \n",
       "\n",
       "   tweet cleaned length std  positive mean  positive std  negative mean  \\\n",
       "0                  6.867947       0.027931      0.038166       0.017498   \n",
       "1                       NaN            NaN           NaN            NaN   \n",
       "2                  8.495976       0.037578      0.037370       0.012007   \n",
       "3                  8.121916       0.038598      0.045959       0.025928   \n",
       "4                  4.851334       0.018659      0.024434       0.005484   \n",
       "\n",
       "   negative std  objective mean  objective std  \n",
       "0      0.024020        0.290692       0.186453  \n",
       "1           NaN             NaN            NaN  \n",
       "2      0.014143        0.352474       0.156332  \n",
       "3      0.037269        0.364821       0.155675  \n",
       "4      0.010836        0.349606       0.120223  "
      ]
     },
     "execution_count": 3,
     "metadata": {},
     "output_type": "execute_result"
    }
   ],
   "source": [
    "soldierCal.head()"
   ]
  },
  {
   "cell_type": "code",
   "execution_count": 4,
   "metadata": {},
   "outputs": [
    {
     "name": "stdout",
     "output_type": "stream",
     "text": [
      "<class 'pandas.core.frame.DataFrame'>\n",
      "RangeIndex: 301 entries, 0 to 300\n",
      "Data columns (total 10 columns):\n",
      " #   Column                     Non-Null Count  Dtype  \n",
      "---  ------                     --------------  -----  \n",
      " 0   Unnamed: 0                 301 non-null    object \n",
      " 1   count                      280 non-null    float64\n",
      " 2   tweet cleaned length mean  280 non-null    float64\n",
      " 3   tweet cleaned length std   280 non-null    float64\n",
      " 4   positive mean              280 non-null    float64\n",
      " 5   positive std               280 non-null    float64\n",
      " 6   negative mean              280 non-null    float64\n",
      " 7   negative std               280 non-null    float64\n",
      " 8   objective mean             280 non-null    float64\n",
      " 9   objective std              280 non-null    float64\n",
      "dtypes: float64(9), object(1)\n",
      "memory usage: 23.6+ KB\n"
     ]
    }
   ],
   "source": [
    "soldierCal.info()"
   ]
  },
  {
   "cell_type": "code",
   "execution_count": 5,
   "metadata": {},
   "outputs": [
    {
     "data": {
      "text/plain": [
       "600224.0"
      ]
     },
     "execution_count": 5,
     "metadata": {},
     "output_type": "execute_result"
    }
   ],
   "source": [
    "# total valid tweet counts\n",
    "soldierCal['count'].sum()"
   ]
  },
  {
   "cell_type": "code",
   "execution_count": 6,
   "metadata": {},
   "outputs": [
    {
     "data": {
      "text/plain": [
       "2143.657142857143"
      ]
     },
     "execution_count": 6,
     "metadata": {},
     "output_type": "execute_result"
    }
   ],
   "source": [
    "soldierCal['count'].mean()"
   ]
  },
  {
   "cell_type": "code",
   "execution_count": 7,
   "metadata": {},
   "outputs": [
    {
     "data": {
      "text/plain": [
       "5286.120399540993"
      ]
     },
     "execution_count": 7,
     "metadata": {},
     "output_type": "execute_result"
    }
   ],
   "source": [
    "soldierCal['count'].std()"
   ]
  },
  {
   "cell_type": "code",
   "execution_count": 8,
   "metadata": {},
   "outputs": [
    {
     "data": {
      "text/plain": [
       "5.206737369785966"
      ]
     },
     "execution_count": 8,
     "metadata": {},
     "output_type": "execute_result"
    }
   ],
   "source": [
    "# tweet cleaned length mean\n",
    "soldierCal['tweet cleaned length mean'].std()"
   ]
  },
  {
   "cell_type": "code",
   "execution_count": 9,
   "metadata": {},
   "outputs": [
    {
     "data": {
      "text/plain": [
       "14.293274248833187"
      ]
     },
     "execution_count": 9,
     "metadata": {},
     "output_type": "execute_result"
    }
   ],
   "source": [
    "soldierCal['tweet cleaned length mean'].mean()"
   ]
  },
  {
   "cell_type": "code",
   "execution_count": 10,
   "metadata": {},
   "outputs": [
    {
     "data": {
      "text/plain": [
       "0.026265750371957067"
      ]
     },
     "execution_count": 10,
     "metadata": {},
     "output_type": "execute_result"
    }
   ],
   "source": [
    "# positive mean on user count\n",
    "soldierCal['positive mean'].mean()"
   ]
  },
  {
   "cell_type": "code",
   "execution_count": 11,
   "metadata": {},
   "outputs": [
    {
     "data": {
      "text/plain": [
       "0.008743212224596538"
      ]
     },
     "execution_count": 11,
     "metadata": {},
     "output_type": "execute_result"
    }
   ],
   "source": [
    "soldierCal['positive mean'].std()"
   ]
  },
  {
   "cell_type": "code",
   "execution_count": 12,
   "metadata": {},
   "outputs": [
    {
     "data": {
      "text/plain": [
       "0.017739445642150364"
      ]
     },
     "execution_count": 12,
     "metadata": {},
     "output_type": "execute_result"
    }
   ],
   "source": [
    "# negative mean on user count\n",
    "soldierCal['negative mean'].mean()"
   ]
  },
  {
   "cell_type": "code",
   "execution_count": 13,
   "metadata": {},
   "outputs": [
    {
     "data": {
      "text/plain": [
       "0.006478597457962081"
      ]
     },
     "execution_count": 13,
     "metadata": {},
     "output_type": "execute_result"
    }
   ],
   "source": [
    "soldierCal['negative mean'].std()"
   ]
  },
  {
   "cell_type": "code",
   "execution_count": 14,
   "metadata": {},
   "outputs": [
    {
     "data": {
      "text/plain": [
       "0.35305253244231866"
      ]
     },
     "execution_count": 14,
     "metadata": {},
     "output_type": "execute_result"
    }
   ],
   "source": [
    "soldierCal['objective mean'].mean()"
   ]
  },
  {
   "cell_type": "code",
   "execution_count": 15,
   "metadata": {},
   "outputs": [
    {
     "data": {
      "text/plain": [
       "0.07200866913477337"
      ]
     },
     "execution_count": 15,
     "metadata": {},
     "output_type": "execute_result"
    }
   ],
   "source": [
    "soldierCal['objective mean'].std()"
   ]
  },
  {
   "cell_type": "code",
   "execution_count": null,
   "metadata": {},
   "outputs": [],
   "source": []
  }
 ],
 "metadata": {
  "kernelspec": {
   "display_name": "Python 3.7.7 64-bit ('TextAnalytics': pipenv)",
   "language": "python",
   "name": "python37764bittextanalyticspipenvec0a72c8bc7e410ea9ad476aba2b0271"
  },
  "language_info": {
   "codemirror_mode": {
    "name": "ipython",
    "version": 3
   },
   "file_extension": ".py",
   "mimetype": "text/x-python",
   "name": "python",
   "nbconvert_exporter": "python",
   "pygments_lexer": "ipython3",
   "version": "3.7.7"
  }
 },
 "nbformat": 4,
 "nbformat_minor": 4
}
